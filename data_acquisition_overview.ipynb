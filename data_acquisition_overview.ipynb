{
 "cells": [
  {
   "cell_type": "markdown",
   "id": "6942c5fe-26dd-4261-a5ea-6b1709c8c823",
   "metadata": {},
   "source": [
    "## Step 1: Isolating COVID-19 Related Conditions\n",
    "In this step, I created a temporary table, `covid_occurrences`, to extract and isolate all occurrences of COVID-19-related conditions based on a predefined list of `condition_concept_id`'s provided during classwork. This allows for a more focused analysis of comorbidities and treatment outcomes related to COVID-19.\n",
    "\n",
    "### SQL Code:\n",
    "```sql\n",
    "-- Create a temporary table with COVID-19 related condition occurrences\n",
    "create temporary table covid_occurrences as\n",
    "with covid_condition_concepts as (\n",
    "    select unnest(array[\n",
    "        3661631,37310254,756039,37310284,3656667,3661405,3661748,\n",
    "        3661632,3656668,3661408,3663281,37310283,3661885,3661406,\n",
    "        37310287,3655977,756031,3662381,37310286,3655975,3656669,\n",
    "        3655976,37311061\n",
    "    ]) as condition_concept_id\n",
    ")\n",
    "select co.*\n",
    "from condition_occurrence co\n",
    "join covid_condition_concepts ccc on co.condition_concept_id = ccc.condition_concept_id;\n",
    "```"
   ]
  },
  {
   "cell_type": "markdown",
   "id": "9e32e502-acd2-4ec8-8425-99d67595bb14",
   "metadata": {},
   "source": [
    "## Step 2: Creating the `covid_comorbidities` Temporary Table\n",
    "\n",
    "In this step, I created a temporary table named `covid_comorbidities` to capture comorbid conditions for patients diagnosed with COVID-19. This table includes conditions that were either ongoing or ended after the COVID-19 diagnosis and were diagnosed before the COVID-19 condition itself. This helps in identifying pre-existing conditions that could impact the severity or outcomes of COVID-19.\n",
    "\n",
    "### SQL Code:\n",
    "```sql\n",
    "create temp table covid_comorbidities as\n",
    "select\n",
    "    co.person_id,\n",
    "    cco.condition_concept_id,\n",
    "    c.concept_name\n",
    "from covid_occurrences co\n",
    "join condition_occurrence cco on co.person_id = cco.person_id\n",
    "join concept c on cco.condition_concept_id = c.concept_id\n",
    "where (cco.condition_end_date is null \n",
    "       or cco.condition_end_date > co.condition_end_date) -- Ongoing condition or ended after COVID\n",
    "  and cco.condition_start_date < co.condition_start_date -- Condition started before COVID-19 diagnosis\n",
    "  and cco.condition_concept_id != co.condition_concept_id -- Exclude COVID-19 itself\n",
    "order by co.person_id, cco.condition_start_date;\n"
   ]
  },
  {
   "cell_type": "code",
   "execution_count": null,
   "id": "9da2b809-f646-43ee-a3a5-0c16281d27af",
   "metadata": {},
   "outputs": [],
   "source": []
  }
 ],
 "metadata": {
  "kernelspec": {
   "display_name": "Python 3 (ipykernel)",
   "language": "python",
   "name": "python3"
  },
  "language_info": {
   "codemirror_mode": {
    "name": "ipython",
    "version": 3
   },
   "file_extension": ".py",
   "mimetype": "text/x-python",
   "name": "python",
   "nbconvert_exporter": "python",
   "pygments_lexer": "ipython3",
   "version": "3.11.7"
  }
 },
 "nbformat": 4,
 "nbformat_minor": 5
}
