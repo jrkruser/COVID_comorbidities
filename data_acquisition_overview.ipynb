{
 "cells": [
  {
   "cell_type": "markdown",
   "id": "8e0accaf-8e05-4ddf-ad71-b751c12a656f",
   "metadata": {},
   "source": [
    "### The following data was acquired from a course provided database built on the OMOP model with Synthea data\n",
    "A number of different tables were created and then exported from the database for use.  \n",
    "https://synthetichealth.github.io/synthea/"
   ]
  },
  {
   "cell_type": "markdown",
   "id": "6942c5fe-26dd-4261-a5ea-6b1709c8c823",
   "metadata": {},
   "source": [
    "#### Isolating COVID-19 Related Conditions\n",
    "In this step, I created a temporary table, `covid_occurrences`, to extract and isolate all occurrences of COVID-19-related conditions based on a predefined list of `condition_concept_id`'s provided during classwork. This allows for a more focused analysis of comorbidities and treatment outcomes related to COVID-19. This table will be filtered to only contain the first diagnosis (by date) for each included person_id so that covid comorbidities can be studied in the context of a first covid infection.\n",
    "\n",
    "##### SQL Code:\n",
    "```sql\n",
    "create temp table covid_occurrences as\n",
    "with covid_condition_concepts as (\n",
    "    select unnest(array[\n",
    "        3661631, 37310254, 756039, 37310284, 3656667, 3661405, 3661748,\n",
    "        3661632, 3656668, 3661408, 3663281, 37310283, 3661885, 3661406,\n",
    "        37310287, 3655977, 756031, 3662381, 37310286, 3655975, 3656669,\n",
    "        3655976, 37311061\n",
    "    ]) as condition_concept_id\n",
    "),\n",
    "earliest_covid_occurrences as (\n",
    "    -- Step 1: Find the earliest start date for each person_id\n",
    "    select \n",
    "        co.person_id,\n",
    "        min(co.condition_start_date) as earliest_start_date\n",
    "    from condition_occurrence co\n",
    "    join covid_condition_concepts ccc on co.condition_concept_id = ccc.condition_concept_id\n",
    "    group by co.person_id\n",
    ")\n",
    "-- Step 2: Select only one row for each person_id with the earliest condition_start_date\n",
    "select distinct on (eco.person_id)\n",
    "    eco.person_id,\n",
    "    eco.earliest_start_date as condition_start_date,\n",
    "    co.condition_end_date\n",
    "from earliest_covid_occurrences eco\n",
    "join condition_occurrence co on eco.person_id = co.person_id\n",
    "    and eco.earliest_start_date = co.condition_start_date\n",
    "order by eco.person_id, co.condition_end_date nulls last;\n",
    "\n",
    "\n",
    "```"
   ]
  },
  {
   "cell_type": "markdown",
   "id": "2f6b537b-2d01-4605-8d39-6c259b1fc722",
   "metadata": {},
   "source": [
    "#### Step: Creating the `covid_person` Temporary Table\n",
    "Here we aqcuired records of all people in the `person` table who had a `person_id` corresponding to a diagnosis of COVID-19. Certain descriptive fields were acquired for their potential to be of use in analysis.\n",
    "\n",
    "##### SQL Code:\n",
    "```sql\n",
    "create temp table covid_person as\n",
    "select\n",
    "    co.person_id,\n",
    "    p.gender_source_value,\n",
    "    p.birth_datetime,\n",
    "    date_part('year', age(co.condition_start_date, p.birth_datetime)) as age_at_covid,  -- Calculated age at diagnosis\n",
    "    p.race_source_value,\n",
    "    p.ethnicity_source_value,\n",
    "    co.condition_start_date as covid_start_date\n",
    "from covid_occurrences co\n",
    "join person p on co.person_id = p.person_id;"
   ]
  },
  {
   "cell_type": "markdown",
   "id": "9e32e502-acd2-4ec8-8425-99d67595bb14",
   "metadata": {},
   "source": [
    "#### Step: Creating the `covid_comorbidities` Temporary Table\n",
    "\n",
    "In this step, I created a temporary table named `covid_comorbidities` to capture comorbid conditions for patients diagnosed with COVID-19. These conditions were filtered down to only include conditions that were ongoing at the time of COVID-19 diagnosis. This helps in identifying pre-existing conditions that could impact the severity or outcomes of COVID-19. Potentially, it would be worth filtering further to only include conditions that started 'x' months before covid diagnosis depending on application.\n",
    "\n",
    "##### SQL Code:\n",
    "```sql\n",
    "create temp table covid_comorbidities as\n",
    "select\n",
    "    co.person_id,\n",
    "    cco.condition_concept_id,\n",
    "    c.concept_name,\n",
    "    cco.condition_start_date,   \n",
    "    cco.condition_end_date      \n",
    "from covid_occurrences co\n",
    "join condition_occurrence cco on co.person_id = cco.person_id\n",
    "join concept c on cco.condition_concept_id = c.concept_id\n",
    "where (cco.condition_end_date is null \n",
    "       or cco.condition_end_date > co.condition_start_date)  -- ongoing condition or ended after COVID start\n",
    "  and cco.condition_start_date < co.condition_start_date      -- started before COVID diagnosis\n",
    "order by co.person_id, cco.condition_start_date;\n",
    "\n"
   ]
  },
  {
   "cell_type": "markdown",
   "id": "df7e2688-aa50-4ba8-9639-d3a0672f112a",
   "metadata": {},
   "source": [
    "#### Step: Creating the `covid_deaths` Temporary Table\n",
    "\n",
    "This table includes individuals who have had a recorded occurrence of COVID-19 and have also died. It does not necessarily indicate that they died of COVID-19; it simply captures those who had a COVID-19 diagnosis at some point and subsequently passed away. We are also addressing known duplicate entries in the `death` table.\n",
    "\n",
    "##### SQL Code:\n",
    "```sql\n",
    "create temp table covid_deaths as\n",
    "select \n",
    "    d.person_id,\n",
    "    d.death_datetime,\n",
    "    d.cause_concept_id,\n",
    "    c.concept_name as cause_of_death \n",
    "from covid_person cp\n",
    "join death d on cp.person_id = d.person_id\n",
    "left join concept c on d.cause_concept_id = c.concept_id;  -- Ensuring it's a LEFT join in case some deaths don't have a cause\n",
    "\n",
    "\n"
   ]
  },
  {
   "cell_type": "markdown",
   "id": "8f5b0de3-6378-4e47-a8f8-3742ebea7cfa",
   "metadata": {},
   "source": [
    "### The following two tables were acquired but not yet used in analysis.\n",
    "They contain more records on medication and procedure history at the time of COVID treatment. These could aid more in-depth analysis of COVID outcomes."
   ]
  },
  {
   "cell_type": "markdown",
   "id": "5bc18df2-ebed-461a-bae7-40ed9bac3572",
   "metadata": {},
   "source": [
    "#### Step: Creating the `covid_drug_exposure` Temporary Table\n",
    "\n",
    "This table captures the drug treatments administered to COVID-19 patients during the period of their recorded COVID-19 diagnosis. It links the `drug_exposure` table with the `covid_occurrences` table to identify which medications were given and their respective durations.\n",
    "\n",
    "##### SQL Code:\n",
    "```sql\n",
    "create temp table covid_drug_exposure as\n",
    "select \n",
    "    co.person_id, \n",
    "    de.drug_concept_id, \n",
    "    de.drug_exposure_start_date, \n",
    "    de.drug_exposure_end_date, \n",
    "    dc.concept_name as drug_name\n",
    "from covid_occurrences co\n",
    "join drug_exposure de on co.person_id = de.person_id\n",
    "join concept dc on de.drug_concept_id = dc.concept_id\n",
    "where de.drug_exposure_start_date between co.condition_start_date and co.condition_end_date;\n"
   ]
  },
  {
   "cell_type": "markdown",
   "id": "44082b69-a155-49d9-9c85-84924b1e97c6",
   "metadata": {},
   "source": [
    "#### Step: Creating the `covid_procedures` Temporary Table\n",
    "\n",
    "This table captures the medical procedures performed on COVID-19 patients during the period of their recorded COVID-19 diagnosis. It links the `procedure_occurrence` table with the `covid_occurrences` table to identify which procedures were conducted and when they occurred.\n",
    "\n",
    "##### SQL Code:\n",
    "```sql\n",
    "create temp table covid_procedures as\n",
    "select \n",
    "    co.person_id,\n",
    "    po.procedure_concept_id,\n",
    "    pc.concept_name as procedure_name,\n",
    "    po.procedure_date\n",
    "from covid_occurrences co\n",
    "join procedure_occurrence po on co.person_id = po.person_id\n",
    "join concept pc on po.procedure_concept_id = pc.concept_id\n",
    "where po.procedure_date between co.condition_start_date and co.condition_end_date\n",
    "order by co.person_id, po.procedure_date;\n"
   ]
  },
  {
   "cell_type": "markdown",
   "id": "0f18be0c-b701-420f-8e37-74f739c63971",
   "metadata": {},
   "source": [
    "#### Exporting to .csv files  \n",
    "\n",
    "The tables were then exported as .csv files and can be found in the adjoining `data` folder in this repository.\n",
    "\n",
    "- `covid_comorbidities.csv`\n",
    "- `covid_occurrences.csv`\n",
    "- `covid_deaths.csv`\n",
    "- `covid_drug_exposures.csv`\n",
    "- `covid_procedures.csv`\n"
   ]
  },
  {
   "cell_type": "code",
   "execution_count": null,
   "id": "ef72ff47-e3a4-4be9-8be1-d30edefe8ae1",
   "metadata": {},
   "outputs": [],
   "source": []
  }
 ],
 "metadata": {
  "kernelspec": {
   "display_name": "Python 3 (ipykernel)",
   "language": "python",
   "name": "python3"
  },
  "language_info": {
   "codemirror_mode": {
    "name": "ipython",
    "version": 3
   },
   "file_extension": ".py",
   "mimetype": "text/x-python",
   "name": "python",
   "nbconvert_exporter": "python",
   "pygments_lexer": "ipython3",
   "version": "3.11.7"
  }
 },
 "nbformat": 4,
 "nbformat_minor": 5
}
