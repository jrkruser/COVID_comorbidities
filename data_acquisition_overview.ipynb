{
 "cells": [
  {
   "cell_type": "markdown",
   "id": "6942c5fe-26dd-4261-a5ea-6b1709c8c823",
   "metadata": {},
   "source": [
    "## Step 1: Isolating COVID-19 Related Conditions\n",
    "In this step, I created a temporary table, `covid_occurrences`, to extract and isolate all occurrences of COVID-19-related conditions based on a predefined list of `condition_concept_id`'s provided during classwork. This allows for a more focused analysis of comorbidities and treatment outcomes related to COVID-19.\n",
    "\n",
    "### SQL Code:\n",
    "```sql\n",
    "-- Create a temporary table with COVID-19 related condition occurrences\n",
    "create temporary table covid_occurrences as\n",
    "with covid_condition_concepts as (\n",
    "    select unnest(array[\n",
    "        3661631,37310254,756039,37310284,3656667,3661405,3661748,\n",
    "        3661632,3656668,3661408,3663281,37310283,3661885,3661406,\n",
    "        37310287,3655977,756031,3662381,37310286,3655975,3656669,\n",
    "        3655976,37311061\n",
    "    ]) as condition_concept_id\n",
    ")\n",
    "select co.*\n",
    "from condition_occurrence co\n",
    "join covid_condition_concepts ccc on co.condition_concept_id = ccc.condition_concept_id;\n",
    "```"
   ]
  },
  {
   "cell_type": "markdown",
   "id": "9e32e502-acd2-4ec8-8425-99d67595bb14",
   "metadata": {},
   "source": [
    "## Step 2: Creating the `covid_comorbidities` Temporary Table\n",
    "\n",
    "In this step, I created a temporary table named `covid_comorbidities` to capture comorbid conditions for patients diagnosed with COVID-19. This table includes conditions that were either ongoing or ended after the COVID-19 diagnosis and were diagnosed before the COVID-19 condition itself. This helps in identifying pre-existing conditions that could impact the severity or outcomes of COVID-19.\n",
    "\n",
    "### SQL Code:\n",
    "```sql\n",
    "create temp table covid_comorbidities as\n",
    "select\n",
    "    co.person_id,\n",
    "    cco.condition_concept_id,\n",
    "    c.concept_name\n",
    "from covid_occurrences co\n",
    "join condition_occurrence cco on co.person_id = cco.person_id\n",
    "join concept c on cco.condition_concept_id = c.concept_id\n",
    "where (cco.condition_end_date is null \n",
    "       or cco.condition_end_date > co.condition_end_date) -- Ongoing condition or ended after COVID\n",
    "  and cco.condition_start_date < co.condition_start_date -- Condition started before COVID-19 diagnosis\n",
    "  and cco.condition_concept_id != co.condition_concept_id -- Exclude COVID-19 itself\n",
    "order by co.person_id, cco.condition_start_date;\n"
   ]
  },
  {
   "cell_type": "markdown",
   "id": "df7e2688-aa50-4ba8-9639-d3a0672f112a",
   "metadata": {},
   "source": [
    "## Step: Creating the `covid_deaths` Temporary Table\n",
    "\n",
    "This table includes individuals who have had a recorded occurrence of COVID-19 and have also died. It does not necessarily indicate that they died of COVID-19; it simply captures those who had a COVID-19 diagnosis at some point and subsequently passed away. We are also addressing known duplicate entries in the `death` table.\n",
    "\n",
    "### SQL Code:\n",
    "```sql\n",
    "create temp table covid_deaths as\n",
    "-- Remove duplicate rows from the death table (known issue)\n",
    "with deduplicated_death as (\n",
    "    select \n",
    "        distinct person_id, \n",
    "        death_date, \n",
    "        death_type_concept_id, \n",
    "        cause_concept_id, \n",
    "        cause_source_value, \n",
    "        cause_source_concept_id\n",
    "    from death\n",
    ") \n",
    "\n",
    "-- Select individuals with a recorded COVID-19 occurrence and join with deduplicated death records\n",
    "select \n",
    "    co.person_id, \n",
    "    co.condition_start_date, \n",
    "    co.condition_end_date, \n",
    "    d.death_date, \n",
    "    d.cause_concept_id, \n",
    "    c.concept_name as cause_of_death\n",
    "from covid_occurrences co\n",
    "left join deduplicated_death d on co.person_id = d.person_id\n",
    "left join concept c on d.cause_concept_id = c.concept_id;\n"
   ]
  },
  {
   "cell_type": "markdown",
   "id": "5bc18df2-ebed-461a-bae7-40ed9bac3572",
   "metadata": {},
   "source": [
    "## Step: Creating the `covid_drug_exposure` Temporary Table\n",
    "\n",
    "This table captures the drug treatments administered to COVID-19 patients during the period of their recorded COVID-19 diagnosis. It links the `drug_exposure` table with the `covid_occurrences` table to identify which medications were given and their respective durations.\n",
    "\n",
    "### SQL Code:\n",
    "```sql\n",
    "create temp table covid_drug_exposure as\n",
    "select \n",
    "    co.person_id, \n",
    "    de.drug_concept_id, \n",
    "    de.drug_exposure_start_date, \n",
    "    de.drug_exposure_end_date, \n",
    "    dc.concept_name as drug_name\n",
    "from covid_occurrences co\n",
    "join drug_exposure de on co.person_id = de.person_id\n",
    "join concept dc on de.drug_concept_id = dc.concept_id\n",
    "where de.drug_exposure_start_date between co.condition_start_date and co.condition_end_date;\n"
   ]
  },
  {
   "cell_type": "markdown",
   "id": "44082b69-a155-49d9-9c85-84924b1e97c6",
   "metadata": {},
   "source": [
    "## Step: Creating the `covid_procedures` Temporary Table\n",
    "\n",
    "This table captures the medical procedures performed on COVID-19 patients during the period of their recorded COVID-19 diagnosis. It links the `procedure_occurrence` table with the `covid_occurrences` table to identify which procedures were conducted and when they occurred.\n",
    "\n",
    "### SQL Code:\n",
    "```sql\n",
    "create temp table covid_procedures as\n",
    "select \n",
    "    co.person_id, \n",
    "    po.procedure_concept_id, \n",
    "    po.procedure_date, \n",
    "    pc.concept_name as procedure_name\n",
    "from covid_occurrences co\n",
    "join procedure_occurrence po on co.person_id = po.person_id\n",
    "join concept pc on po.procedure_concept_id = pc.concept_id\n",
    "where po.procedure_date between co.condition_start_date and co.condition_end_date;\n"
   ]
  },
  {
   "cell_type": "code",
   "execution_count": null,
   "id": "e3150d2d-8ac7-43b2-a90a-5874c8fbac61",
   "metadata": {},
   "outputs": [],
   "source": []
  }
 ],
 "metadata": {
  "kernelspec": {
   "display_name": "Python 3 (ipykernel)",
   "language": "python",
   "name": "python3"
  },
  "language_info": {
   "codemirror_mode": {
    "name": "ipython",
    "version": 3
   },
   "file_extension": ".py",
   "mimetype": "text/x-python",
   "name": "python",
   "nbconvert_exporter": "python",
   "pygments_lexer": "ipython3",
   "version": "3.11.7"
  }
 },
 "nbformat": 4,
 "nbformat_minor": 5
}
